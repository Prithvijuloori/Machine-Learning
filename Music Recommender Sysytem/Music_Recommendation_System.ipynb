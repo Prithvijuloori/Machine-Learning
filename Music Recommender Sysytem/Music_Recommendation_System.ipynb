{
  "cells": [
    {
      "cell_type": "code",
      "execution_count": 1,
      "metadata": {
        "id": "wz2apNr9GRJ3"
      },
      "outputs": [],
      "source": [
        "import pandas as pd"
      ]
    },
    {
      "cell_type": "code",
      "execution_count": 2,
      "metadata": {
        "id": "DuVsMJv6GbNV"
      },
      "outputs": [],
      "source": [
        "df = pd.read_csv('spotify_millsongdata.csv')"
      ]
    },
    {
      "cell_type": "code",
      "execution_count": 3,
      "metadata": {
        "colab": {
          "base_uri": "https://localhost:8080/",
          "height": 206
        },
        "id": "EcTUdhFeGiIO",
        "outputId": "599c7577-63f0-4ac2-8ee3-5d6fcae6891d"
      },
      "outputs": [
        {
          "data": {
            "text/html": [
              "<div>\n",
              "<style scoped>\n",
              "    .dataframe tbody tr th:only-of-type {\n",
              "        vertical-align: middle;\n",
              "    }\n",
              "\n",
              "    .dataframe tbody tr th {\n",
              "        vertical-align: top;\n",
              "    }\n",
              "\n",
              "    .dataframe thead th {\n",
              "        text-align: right;\n",
              "    }\n",
              "</style>\n",
              "<table border=\"1\" class=\"dataframe\">\n",
              "  <thead>\n",
              "    <tr style=\"text-align: right;\">\n",
              "      <th></th>\n",
              "      <th>artist</th>\n",
              "      <th>song</th>\n",
              "      <th>link</th>\n",
              "      <th>text</th>\n",
              "    </tr>\n",
              "  </thead>\n",
              "  <tbody>\n",
              "    <tr>\n",
              "      <th>0</th>\n",
              "      <td>ABBA</td>\n",
              "      <td>Ahe's My Kind Of Girl</td>\n",
              "      <td>/a/abba/ahes+my+kind+of+girl_20598417.html</td>\n",
              "      <td>Look at her face, it's a wonderful face  \\r\\nA...</td>\n",
              "    </tr>\n",
              "    <tr>\n",
              "      <th>1</th>\n",
              "      <td>ABBA</td>\n",
              "      <td>Andante, Andante</td>\n",
              "      <td>/a/abba/andante+andante_20002708.html</td>\n",
              "      <td>Take it easy with me, please  \\r\\nTouch me gen...</td>\n",
              "    </tr>\n",
              "    <tr>\n",
              "      <th>2</th>\n",
              "      <td>ABBA</td>\n",
              "      <td>As Good As New</td>\n",
              "      <td>/a/abba/as+good+as+new_20003033.html</td>\n",
              "      <td>I'll never know why I had to go  \\r\\nWhy I had...</td>\n",
              "    </tr>\n",
              "    <tr>\n",
              "      <th>3</th>\n",
              "      <td>ABBA</td>\n",
              "      <td>Bang</td>\n",
              "      <td>/a/abba/bang_20598415.html</td>\n",
              "      <td>Making somebody happy is a question of give an...</td>\n",
              "    </tr>\n",
              "    <tr>\n",
              "      <th>4</th>\n",
              "      <td>ABBA</td>\n",
              "      <td>Bang-A-Boomerang</td>\n",
              "      <td>/a/abba/bang+a+boomerang_20002668.html</td>\n",
              "      <td>Making somebody happy is a question of give an...</td>\n",
              "    </tr>\n",
              "  </tbody>\n",
              "</table>\n",
              "</div>"
            ],
            "text/plain": [
              "  artist                   song                                        link  \\\n",
              "0   ABBA  Ahe's My Kind Of Girl  /a/abba/ahes+my+kind+of+girl_20598417.html   \n",
              "1   ABBA       Andante, Andante       /a/abba/andante+andante_20002708.html   \n",
              "2   ABBA         As Good As New        /a/abba/as+good+as+new_20003033.html   \n",
              "3   ABBA                   Bang                  /a/abba/bang_20598415.html   \n",
              "4   ABBA       Bang-A-Boomerang      /a/abba/bang+a+boomerang_20002668.html   \n",
              "\n",
              "                                                text  \n",
              "0  Look at her face, it's a wonderful face  \\r\\nA...  \n",
              "1  Take it easy with me, please  \\r\\nTouch me gen...  \n",
              "2  I'll never know why I had to go  \\r\\nWhy I had...  \n",
              "3  Making somebody happy is a question of give an...  \n",
              "4  Making somebody happy is a question of give an...  "
            ]
          },
          "execution_count": 3,
          "metadata": {},
          "output_type": "execute_result"
        }
      ],
      "source": [
        "df.head(5)"
      ]
    },
    {
      "cell_type": "code",
      "execution_count": 4,
      "metadata": {
        "colab": {
          "base_uri": "https://localhost:8080/",
          "height": 206
        },
        "id": "59Cw8K57GxtX",
        "outputId": "7f456fd2-5ad3-4052-e8ed-1a620d13fe24"
      },
      "outputs": [
        {
          "data": {
            "text/html": [
              "<div>\n",
              "<style scoped>\n",
              "    .dataframe tbody tr th:only-of-type {\n",
              "        vertical-align: middle;\n",
              "    }\n",
              "\n",
              "    .dataframe tbody tr th {\n",
              "        vertical-align: top;\n",
              "    }\n",
              "\n",
              "    .dataframe thead th {\n",
              "        text-align: right;\n",
              "    }\n",
              "</style>\n",
              "<table border=\"1\" class=\"dataframe\">\n",
              "  <thead>\n",
              "    <tr style=\"text-align: right;\">\n",
              "      <th></th>\n",
              "      <th>artist</th>\n",
              "      <th>song</th>\n",
              "      <th>link</th>\n",
              "      <th>text</th>\n",
              "    </tr>\n",
              "  </thead>\n",
              "  <tbody>\n",
              "    <tr>\n",
              "      <th>57645</th>\n",
              "      <td>Ziggy Marley</td>\n",
              "      <td>Good Old Days</td>\n",
              "      <td>/z/ziggy+marley/good+old+days_10198588.html</td>\n",
              "      <td>Irie days come on play  \\r\\nLet the angels fly...</td>\n",
              "    </tr>\n",
              "    <tr>\n",
              "      <th>57646</th>\n",
              "      <td>Ziggy Marley</td>\n",
              "      <td>Hand To Mouth</td>\n",
              "      <td>/z/ziggy+marley/hand+to+mouth_20531167.html</td>\n",
              "      <td>Power to the workers  \\r\\nMore power  \\r\\nPowe...</td>\n",
              "    </tr>\n",
              "    <tr>\n",
              "      <th>57647</th>\n",
              "      <td>Zwan</td>\n",
              "      <td>Come With Me</td>\n",
              "      <td>/z/zwan/come+with+me_20148981.html</td>\n",
              "      <td>all you need  \\r\\nis something i'll believe  \\...</td>\n",
              "    </tr>\n",
              "    <tr>\n",
              "      <th>57648</th>\n",
              "      <td>Zwan</td>\n",
              "      <td>Desire</td>\n",
              "      <td>/z/zwan/desire_20148986.html</td>\n",
              "      <td>northern star  \\r\\nam i frightened  \\r\\nwhere ...</td>\n",
              "    </tr>\n",
              "    <tr>\n",
              "      <th>57649</th>\n",
              "      <td>Zwan</td>\n",
              "      <td>Heartsong</td>\n",
              "      <td>/z/zwan/heartsong_20148991.html</td>\n",
              "      <td>come in  \\r\\nmake yourself at home  \\r\\ni'm a ...</td>\n",
              "    </tr>\n",
              "  </tbody>\n",
              "</table>\n",
              "</div>"
            ],
            "text/plain": [
              "             artist           song  \\\n",
              "57645  Ziggy Marley  Good Old Days   \n",
              "57646  Ziggy Marley  Hand To Mouth   \n",
              "57647          Zwan   Come With Me   \n",
              "57648          Zwan         Desire   \n",
              "57649          Zwan      Heartsong   \n",
              "\n",
              "                                              link  \\\n",
              "57645  /z/ziggy+marley/good+old+days_10198588.html   \n",
              "57646  /z/ziggy+marley/hand+to+mouth_20531167.html   \n",
              "57647           /z/zwan/come+with+me_20148981.html   \n",
              "57648                 /z/zwan/desire_20148986.html   \n",
              "57649              /z/zwan/heartsong_20148991.html   \n",
              "\n",
              "                                                    text  \n",
              "57645  Irie days come on play  \\r\\nLet the angels fly...  \n",
              "57646  Power to the workers  \\r\\nMore power  \\r\\nPowe...  \n",
              "57647  all you need  \\r\\nis something i'll believe  \\...  \n",
              "57648  northern star  \\r\\nam i frightened  \\r\\nwhere ...  \n",
              "57649  come in  \\r\\nmake yourself at home  \\r\\ni'm a ...  "
            ]
          },
          "execution_count": 4,
          "metadata": {},
          "output_type": "execute_result"
        }
      ],
      "source": [
        "df.tail(5)"
      ]
    },
    {
      "cell_type": "code",
      "execution_count": 5,
      "metadata": {
        "colab": {
          "base_uri": "https://localhost:8080/"
        },
        "id": "kb54IL1_G0Xn",
        "outputId": "1895f721-1131-44ee-ac55-4bb50284ad65"
      },
      "outputs": [
        {
          "data": {
            "text/plain": [
              "(57650, 4)"
            ]
          },
          "execution_count": 5,
          "metadata": {},
          "output_type": "execute_result"
        }
      ],
      "source": [
        "df.shape"
      ]
    },
    {
      "cell_type": "code",
      "execution_count": 6,
      "metadata": {
        "colab": {
          "base_uri": "https://localhost:8080/",
          "height": 209
        },
        "id": "jkyxGboZHMQl",
        "outputId": "018b456b-560a-4562-bef5-d4f4e7b7342e"
      },
      "outputs": [
        {
          "data": {
            "text/plain": [
              "artist    0\n",
              "song      0\n",
              "link      0\n",
              "text      0\n",
              "dtype: int64"
            ]
          },
          "execution_count": 6,
          "metadata": {},
          "output_type": "execute_result"
        }
      ],
      "source": [
        "df.isnull().sum()"
      ]
    },
    {
      "cell_type": "code",
      "execution_count": 7,
      "metadata": {
        "id": "iIAkXjn4H_6w"
      },
      "outputs": [],
      "source": [
        "df = df.sample(5000).drop('link', axis = 1). reset_index(drop = True)"
      ]
    },
    {
      "cell_type": "code",
      "execution_count": 8,
      "metadata": {
        "colab": {
          "base_uri": "https://localhost:8080/",
          "height": 363
        },
        "id": "Y6pCoeafIOGo",
        "outputId": "47e94ebb-f143-4783-d999-8a1e6c98b3a7"
      },
      "outputs": [
        {
          "data": {
            "text/html": [
              "<div>\n",
              "<style scoped>\n",
              "    .dataframe tbody tr th:only-of-type {\n",
              "        vertical-align: middle;\n",
              "    }\n",
              "\n",
              "    .dataframe tbody tr th {\n",
              "        vertical-align: top;\n",
              "    }\n",
              "\n",
              "    .dataframe thead th {\n",
              "        text-align: right;\n",
              "    }\n",
              "</style>\n",
              "<table border=\"1\" class=\"dataframe\">\n",
              "  <thead>\n",
              "    <tr style=\"text-align: right;\">\n",
              "      <th></th>\n",
              "      <th>artist</th>\n",
              "      <th>song</th>\n",
              "      <th>text</th>\n",
              "    </tr>\n",
              "  </thead>\n",
              "  <tbody>\n",
              "    <tr>\n",
              "      <th>0</th>\n",
              "      <td>Faith No More</td>\n",
              "      <td>We Care A Lot</td>\n",
              "      <td>(We care a lot)  \\r\\n(We care a lot)  \\r\\n  \\r...</td>\n",
              "    </tr>\n",
              "    <tr>\n",
              "      <th>1</th>\n",
              "      <td>Cyndi Lauper</td>\n",
              "      <td>Echo</td>\n",
              "      <td>Woke up to the clock  \\r\\nWhat knob makes it s...</td>\n",
              "    </tr>\n",
              "    <tr>\n",
              "      <th>2</th>\n",
              "      <td>Green Day</td>\n",
              "      <td>Minnesota Girl</td>\n",
              "      <td>Sittin' on the hood of a camaro  \\r\\nWalkin' s...</td>\n",
              "    </tr>\n",
              "    <tr>\n",
              "      <th>3</th>\n",
              "      <td>Inna</td>\n",
              "      <td>Sun Is Up</td>\n",
              "      <td>All the people tonight  \\r\\nPut your hands in ...</td>\n",
              "    </tr>\n",
              "    <tr>\n",
              "      <th>4</th>\n",
              "      <td>O.A.R.</td>\n",
              "      <td>Ran Away To The Top Of The World</td>\n",
              "      <td>I don't know nothing and I don't know a thing ...</td>\n",
              "    </tr>\n",
              "    <tr>\n",
              "      <th>5</th>\n",
              "      <td>Death</td>\n",
              "      <td>Zombie Ritual</td>\n",
              "      <td>Revengeful corpse out to kill  \\r\\nSmell the s...</td>\n",
              "    </tr>\n",
              "    <tr>\n",
              "      <th>6</th>\n",
              "      <td>Unwritten Law</td>\n",
              "      <td>C.P.K.</td>\n",
              "      <td>I remember the way when we used to play  \\r\\nA...</td>\n",
              "    </tr>\n",
              "    <tr>\n",
              "      <th>7</th>\n",
              "      <td>Scorpions</td>\n",
              "      <td>Someday Is Now</td>\n",
              "      <td>Blood rains down across the tundra  \\r\\nIce fl...</td>\n",
              "    </tr>\n",
              "    <tr>\n",
              "      <th>8</th>\n",
              "      <td>Rem</td>\n",
              "      <td>A Month Of Saturdays</td>\n",
              "      <td>Five o'clock Friday  \\r\\nAll my work is done  ...</td>\n",
              "    </tr>\n",
              "    <tr>\n",
              "      <th>9</th>\n",
              "      <td>Kinks</td>\n",
              "      <td>Good Luck Charm</td>\n",
              "      <td>If a black cat crossed your path, little woman...</td>\n",
              "    </tr>\n",
              "  </tbody>\n",
              "</table>\n",
              "</div>"
            ],
            "text/plain": [
              "          artist                              song  \\\n",
              "0  Faith No More                     We Care A Lot   \n",
              "1   Cyndi Lauper                              Echo   \n",
              "2      Green Day                    Minnesota Girl   \n",
              "3           Inna                         Sun Is Up   \n",
              "4         O.A.R.  Ran Away To The Top Of The World   \n",
              "5          Death                     Zombie Ritual   \n",
              "6  Unwritten Law                            C.P.K.   \n",
              "7      Scorpions                    Someday Is Now   \n",
              "8            Rem              A Month Of Saturdays   \n",
              "9          Kinks                   Good Luck Charm   \n",
              "\n",
              "                                                text  \n",
              "0  (We care a lot)  \\r\\n(We care a lot)  \\r\\n  \\r...  \n",
              "1  Woke up to the clock  \\r\\nWhat knob makes it s...  \n",
              "2  Sittin' on the hood of a camaro  \\r\\nWalkin' s...  \n",
              "3  All the people tonight  \\r\\nPut your hands in ...  \n",
              "4  I don't know nothing and I don't know a thing ...  \n",
              "5  Revengeful corpse out to kill  \\r\\nSmell the s...  \n",
              "6  I remember the way when we used to play  \\r\\nA...  \n",
              "7  Blood rains down across the tundra  \\r\\nIce fl...  \n",
              "8  Five o'clock Friday  \\r\\nAll my work is done  ...  \n",
              "9  If a black cat crossed your path, little woman...  "
            ]
          },
          "execution_count": 8,
          "metadata": {},
          "output_type": "execute_result"
        }
      ],
      "source": [
        "df.head(10)"
      ]
    },
    {
      "cell_type": "code",
      "execution_count": 9,
      "metadata": {
        "colab": {
          "base_uri": "https://localhost:8080/",
          "height": 108
        },
        "id": "hbAHQivHIa9H",
        "outputId": "4a1b6b2e-8226-4604-bbdb-caa9dd3014eb"
      },
      "outputs": [
        {
          "data": {
            "text/plain": [
              "\"(We care a lot)  \\r\\n(We care a lot)  \\r\\n  \\r\\n(We care a lot) about disasters, fires, floods and killer bees  \\r\\nabout the NASA shuttle falling in the sea  \\r\\n(We care a lot) about starvation and the food that Live Aid bought  \\r\\n(We care a lot) about disease, baby Rock, Hudson, rock, yeah!  \\r\\n  \\r\\nWoow  \\r\\nWoah a woah a oh  \\r\\nOh, its a dirty job but someones gotta do it  \\r\\nOh, its a dirty job but someones gotta do it  \\r\\nWe care a lot  \\r\\n(We care a lot)  \\r\\n  \\r\\n(We care a lot) about the gamblers and the pushers and the geeks  \\r\\n(We care a lot) about the smack and crack and whack that hits the street  \\r\\n(We care a lot) about the welfare of all the boys and girls  \\r\\n(We care a lot) about you people cause we're out to save the world  \\r\\n  \\r\\n(YEAH)  \\r\\n  \\r\\nWoow, wooow  \\r\\nOh, its a dirty job but someones gotta do it  \\r\\nWoah a woah a oh  \\r\\nOh, its a dirty job but someones gotta do it  \\r\\nSaid, its a dirty job but someones gotta do it  \\r\\nOh, its a dirty job but someones gotta do it  \\r\\n  \\r\\nOh, its a dirty job but someones gotta do it  \\r\\nWoah a woah a oh  \\r\\nOh, its a dirty job but someones gotta do it  \\r\\nOh, its a dirty job but someones gotta do it  \\r\\nSaid, its a dirty job but someones gotta do it  \\r\\n  \\r\\n(We care a lot) about the army navy air force and marines  \\r\\n(We care a lot) about the NY, SF and LAPD  \\r\\n(We care a lot) about you people  \\r\\n(We care a lot) about your guns  \\r\\n(We care a lot) about the wars you're fighting gee that looks like fun  \\r\\n  \\r\\n(We care a lot) about the Garbage Pail Kids, they never lie  \\r\\n(We care a lot) about Transformers cause there's more than meets the eye  \\r\\n(We care a lot) about the little things, the bigger things we top  \\r\\n(We care a lot) about you people yeah you bet we care a lot  \\r\\n  \\r\\nYEAH!  \\r\\n  \\r\\n(Woah a woah a oh)  \\r\\n  \\r\\nSaid, its a dirty job but someones gotta do it  \\r\\nOh, its a dirty job but someones gotta do it  \\r\\n  \\r\\n(Woah a woah a oh)  \\r\\n  \\r\\nSaid, its a dirty job but someones gotta do it  \\r\\nOh, its a dirty job but someones gotta do it  \\r\\nSaid, its a dirty job but someones gotta do it  \\r\\nOh, its a dirty job but someones gotta do it  \\r\\nOh, its a dirty job but someones gotta do it  \\r\\nOh, its a dirty job but someones gotta do it  \\r\\nOh, its a dirty song but someones gotta sing it now\\r\\n\\r\\n\""
            ]
          },
          "execution_count": 9,
          "metadata": {},
          "output_type": "execute_result"
        }
      ],
      "source": [
        "df['text'][0]"
      ]
    },
    {
      "cell_type": "code",
      "execution_count": 10,
      "metadata": {
        "colab": {
          "base_uri": "https://localhost:8080/"
        },
        "id": "ltd_dEdZI3ny",
        "outputId": "8554d334-a244-453a-8024-ae1a2ec399f9"
      },
      "outputs": [
        {
          "data": {
            "text/plain": [
              "(5000, 3)"
            ]
          },
          "execution_count": 10,
          "metadata": {},
          "output_type": "execute_result"
        }
      ],
      "source": [
        "df.shape"
      ]
    },
    {
      "cell_type": "markdown",
      "metadata": {
        "id": "SxuPN3mJJCcc"
      },
      "source": [
        "# **Text Cleaning/ Text Preprocessing**"
      ]
    },
    {
      "cell_type": "code",
      "execution_count": 11,
      "metadata": {
        "id": "ehwFjUx8JFjE"
      },
      "outputs": [],
      "source": [
        "df['text'] = df['text'].str.lower().replace(r'^\\w\\s', ' ').replace(r'\\n', ' ', regex = True)"
      ]
    },
    {
      "cell_type": "code",
      "execution_count": 12,
      "metadata": {
        "colab": {
          "base_uri": "https://localhost:8080/",
          "height": 206
        },
        "id": "JIvwo5kYN1ZO",
        "outputId": "72c1f378-c36f-4542-bfbb-8924c7eff085"
      },
      "outputs": [
        {
          "data": {
            "text/html": [
              "<div>\n",
              "<style scoped>\n",
              "    .dataframe tbody tr th:only-of-type {\n",
              "        vertical-align: middle;\n",
              "    }\n",
              "\n",
              "    .dataframe tbody tr th {\n",
              "        vertical-align: top;\n",
              "    }\n",
              "\n",
              "    .dataframe thead th {\n",
              "        text-align: right;\n",
              "    }\n",
              "</style>\n",
              "<table border=\"1\" class=\"dataframe\">\n",
              "  <thead>\n",
              "    <tr style=\"text-align: right;\">\n",
              "      <th></th>\n",
              "      <th>artist</th>\n",
              "      <th>song</th>\n",
              "      <th>text</th>\n",
              "    </tr>\n",
              "  </thead>\n",
              "  <tbody>\n",
              "    <tr>\n",
              "      <th>4995</th>\n",
              "      <td>Alison Krauss</td>\n",
              "      <td>Endless Highway</td>\n",
              "      <td>endless highway,  \\r as far as i can see  \\r t...</td>\n",
              "    </tr>\n",
              "    <tr>\n",
              "      <th>4996</th>\n",
              "      <td>Queensryche</td>\n",
              "      <td>Out Of Mind</td>\n",
              "      <td>little girl sits in the corner, locked in a st...</td>\n",
              "    </tr>\n",
              "    <tr>\n",
              "      <th>4997</th>\n",
              "      <td>Kiss</td>\n",
              "      <td>Mr. Speed</td>\n",
              "      <td>you need lovin', you're lookin' out for new ro...</td>\n",
              "    </tr>\n",
              "    <tr>\n",
              "      <th>4998</th>\n",
              "      <td>U2</td>\n",
              "      <td>Bullet The Blue Sky</td>\n",
              "      <td>in the howling wind comes a stinging rain  \\r ...</td>\n",
              "    </tr>\n",
              "    <tr>\n",
              "      <th>4999</th>\n",
              "      <td>U2</td>\n",
              "      <td>A Sort Of Homecoming</td>\n",
              "      <td>and you know it's time to go  \\r through the s...</td>\n",
              "    </tr>\n",
              "  </tbody>\n",
              "</table>\n",
              "</div>"
            ],
            "text/plain": [
              "             artist                  song  \\\n",
              "4995  Alison Krauss       Endless Highway   \n",
              "4996    Queensryche           Out Of Mind   \n",
              "4997           Kiss             Mr. Speed   \n",
              "4998             U2   Bullet The Blue Sky   \n",
              "4999             U2  A Sort Of Homecoming   \n",
              "\n",
              "                                                   text  \n",
              "4995  endless highway,  \\r as far as i can see  \\r t...  \n",
              "4996  little girl sits in the corner, locked in a st...  \n",
              "4997  you need lovin', you're lookin' out for new ro...  \n",
              "4998  in the howling wind comes a stinging rain  \\r ...  \n",
              "4999  and you know it's time to go  \\r through the s...  "
            ]
          },
          "execution_count": 12,
          "metadata": {},
          "output_type": "execute_result"
        }
      ],
      "source": [
        "df.tail(5)"
      ]
    },
    {
      "cell_type": "code",
      "execution_count": 13,
      "metadata": {
        "colab": {
          "base_uri": "https://localhost:8080/"
        },
        "id": "vavigJjPQkei",
        "outputId": "2e2e4c18-ad4f-433a-e829-2b08e1faf12f"
      },
      "outputs": [
        {
          "name": "stderr",
          "output_type": "stream",
          "text": [
            "[nltk_data] Downloading package punkt to\n",
            "[nltk_data]     C:\\Users\\games\\AppData\\Roaming\\nltk_data...\n",
            "[nltk_data]   Package punkt is already up-to-date!\n"
          ]
        },
        {
          "data": {
            "text/plain": [
              "True"
            ]
          },
          "execution_count": 13,
          "metadata": {},
          "output_type": "execute_result"
        }
      ],
      "source": [
        "import nltk\n",
        "from nltk.stem.porter import PorterStemmer\n",
        "nltk.download('punkt')"
      ]
    },
    {
      "cell_type": "code",
      "execution_count": 14,
      "metadata": {
        "id": "DFNuEpfBQxNm"
      },
      "outputs": [],
      "source": [
        "stemmer = PorterStemmer()"
      ]
    },
    {
      "cell_type": "code",
      "execution_count": 15,
      "metadata": {
        "id": "xoCcPEYsQ4Zv"
      },
      "outputs": [],
      "source": [
        "def token(txt):\n",
        "    token = nltk.word_tokenize(txt)\n",
        "    a = [stemmer.stem(w) for w in token]\n",
        "    return \" \".join(a)"
      ]
    },
    {
      "cell_type": "code",
      "execution_count": 16,
      "metadata": {
        "colab": {
          "base_uri": "https://localhost:8080/",
          "height": 36
        },
        "id": "pEcZuTbrRYnu",
        "outputId": "faea6d0a-3a75-4f83-9d79-17f4b201ed88"
      },
      "outputs": [
        {
          "data": {
            "text/plain": [
              "'you are beauti , beauti'"
            ]
          },
          "execution_count": 16,
          "metadata": {},
          "output_type": "execute_result"
        }
      ],
      "source": [
        "token(\"you are beautiful, beauty\")"
      ]
    },
    {
      "cell_type": "code",
      "execution_count": 17,
      "metadata": {
        "colab": {
          "base_uri": "https://localhost:8080/",
          "height": 458
        },
        "id": "fEGuhvuuUEXC",
        "outputId": "4b27adb4-e6af-491e-b543-3770c1a80af2"
      },
      "outputs": [
        {
          "data": {
            "text/plain": [
              "0       ( we care a lot ) ( we care a lot ) ( we care ...\n",
              "1       woke up to the clock what knob make it stop ti...\n",
              "2       sittin ' on the hood of a camaro walkin ' shoo...\n",
              "3       all the peopl tonight put your hand in the sky...\n",
              "4       i do n't know noth and i do n't know a thing b...\n",
              "                              ...                        \n",
              "4995    endless highway , as far as i can see the road...\n",
              "4996    littl girl sit in the corner , lock in a stare...\n",
              "4997    you need lovin ' , you 're lookin ' out for ne...\n",
              "4998    in the howl wind come a sting rain see it driv...\n",
              "4999    and you know it 's time to go through the slee...\n",
              "Name: text, Length: 5000, dtype: object"
            ]
          },
          "execution_count": 17,
          "metadata": {},
          "output_type": "execute_result"
        }
      ],
      "source": [
        "df['text'].apply(lambda x: token(x))"
      ]
    },
    {
      "cell_type": "code",
      "execution_count": 18,
      "metadata": {
        "id": "Uk6z1qDVTl8f"
      },
      "outputs": [],
      "source": [
        "from sklearn.feature_extraction.text import TfidfVectorizer\n",
        "from sklearn.metrics.pairwise import cosine_similarity"
      ]
    },
    {
      "cell_type": "code",
      "execution_count": 19,
      "metadata": {
        "id": "48P1y3V6dLC5"
      },
      "outputs": [],
      "source": [
        "tfid = TfidfVectorizer(analyzer = 'word', stop_words = 'english')"
      ]
    },
    {
      "cell_type": "code",
      "execution_count": 20,
      "metadata": {
        "id": "IVu810KKdSvZ"
      },
      "outputs": [],
      "source": [
        "matrix = tfid.fit_transform(df['text'])"
      ]
    },
    {
      "cell_type": "code",
      "execution_count": 21,
      "metadata": {
        "id": "UpH6wCYVdXo6"
      },
      "outputs": [],
      "source": [
        "similar = cosine_similarity(matrix)"
      ]
    },
    {
      "cell_type": "code",
      "execution_count": 22,
      "metadata": {
        "colab": {
          "base_uri": "https://localhost:8080/"
        },
        "id": "hKkxx1Ssd0GF",
        "outputId": "175c4660-3859-4586-e647-c7af320236cd"
      },
      "outputs": [
        {
          "data": {
            "text/plain": [
              "array([1.        , 0.00142555, 0.        , ..., 0.0180668 , 0.00102111,\n",
              "       0.03989251])"
            ]
          },
          "execution_count": 22,
          "metadata": {},
          "output_type": "execute_result"
        }
      ],
      "source": [
        "similar[0]"
      ]
    },
    {
      "cell_type": "code",
      "execution_count": 23,
      "metadata": {
        "colab": {
          "base_uri": "https://localhost:8080/"
        },
        "id": "GL19lbPfeCnZ",
        "outputId": "8a59e7ca-cdb0-467c-8559-b7765604275e"
      },
      "outputs": [
        {
          "data": {
            "text/plain": [
              "31"
            ]
          },
          "execution_count": 23,
          "metadata": {},
          "output_type": "execute_result"
        }
      ],
      "source": [
        "df[df['song']== 'Sunset'].index[0]"
      ]
    },
    {
      "cell_type": "markdown",
      "metadata": {
        "id": "AraD6_Jteav6"
      },
      "source": [
        "# **Recommender Function**"
      ]
    },
    {
      "cell_type": "code",
      "execution_count": 24,
      "metadata": {
        "id": "6ix20sqLeWsA"
      },
      "outputs": [],
      "source": [
        "def recommender(song_name):\n",
        "   idx = df[df['song']==song_name].index[0]\n",
        "   distance = sorted(list(enumerate(similar[idx])), reverse= True, key = lambda x:x[1])\n",
        "   song = []\n",
        "   for s_id in distance[1:21]:\n",
        "    song.append(df.iloc[s_id[0]].song)\n",
        "   return song"
      ]
    },
    {
      "cell_type": "code",
      "execution_count": 25,
      "metadata": {
        "colab": {
          "base_uri": "https://localhost:8080/"
        },
        "id": "zllETainfmk4",
        "outputId": "f3e1221c-b21b-4dbb-db54-33102cd98362"
      },
      "outputs": [
        {
          "ename": "IndexError",
          "evalue": "index 0 is out of bounds for axis 0 with size 0",
          "output_type": "error",
          "traceback": [
            "\u001b[1;31m---------------------------------------------------------------------------\u001b[0m",
            "\u001b[1;31mIndexError\u001b[0m                                Traceback (most recent call last)",
            "Cell \u001b[1;32mIn[25], line 1\u001b[0m\n\u001b[1;32m----> 1\u001b[0m recommender(\u001b[38;5;124m\"\u001b[39m\u001b[38;5;124mHeavy Metal Lover\u001b[39m\u001b[38;5;124m\"\u001b[39m)\n",
            "Cell \u001b[1;32mIn[24], line 2\u001b[0m, in \u001b[0;36mrecommender\u001b[1;34m(song_name)\u001b[0m\n\u001b[0;32m      1\u001b[0m \u001b[38;5;28;01mdef\u001b[39;00m \u001b[38;5;21mrecommender\u001b[39m(song_name):\n\u001b[1;32m----> 2\u001b[0m    idx \u001b[38;5;241m=\u001b[39m df[df[\u001b[38;5;124m'\u001b[39m\u001b[38;5;124msong\u001b[39m\u001b[38;5;124m'\u001b[39m]\u001b[38;5;241m==\u001b[39msong_name]\u001b[38;5;241m.\u001b[39mindex[\u001b[38;5;241m0\u001b[39m]\n\u001b[0;32m      3\u001b[0m    distance \u001b[38;5;241m=\u001b[39m \u001b[38;5;28msorted\u001b[39m(\u001b[38;5;28mlist\u001b[39m(\u001b[38;5;28menumerate\u001b[39m(similar[idx])), reverse\u001b[38;5;241m=\u001b[39m \u001b[38;5;28;01mTrue\u001b[39;00m, key \u001b[38;5;241m=\u001b[39m \u001b[38;5;28;01mlambda\u001b[39;00m x:x[\u001b[38;5;241m1\u001b[39m])\n\u001b[0;32m      4\u001b[0m    song \u001b[38;5;241m=\u001b[39m []\n",
            "File \u001b[1;32mc:\\Users\\games\\anaconda3\\Lib\\site-packages\\pandas\\core\\indexes\\base.py:5175\u001b[0m, in \u001b[0;36mIndex.__getitem__\u001b[1;34m(self, key)\u001b[0m\n\u001b[0;32m   5172\u001b[0m \u001b[38;5;28;01mif\u001b[39;00m is_integer(key) \u001b[38;5;129;01mor\u001b[39;00m is_float(key):\n\u001b[0;32m   5173\u001b[0m     \u001b[38;5;66;03m# GH#44051 exclude bool, which would return a 2d ndarray\u001b[39;00m\n\u001b[0;32m   5174\u001b[0m     key \u001b[38;5;241m=\u001b[39m com\u001b[38;5;241m.\u001b[39mcast_scalar_indexer(key)\n\u001b[1;32m-> 5175\u001b[0m     \u001b[38;5;28;01mreturn\u001b[39;00m getitem(key)\n\u001b[0;32m   5177\u001b[0m \u001b[38;5;28;01mif\u001b[39;00m \u001b[38;5;28misinstance\u001b[39m(key, \u001b[38;5;28mslice\u001b[39m):\n\u001b[0;32m   5178\u001b[0m     \u001b[38;5;66;03m# This case is separated from the conditional above to avoid\u001b[39;00m\n\u001b[0;32m   5179\u001b[0m     \u001b[38;5;66;03m# pessimization com.is_bool_indexer and ndim checks.\u001b[39;00m\n\u001b[0;32m   5180\u001b[0m     result \u001b[38;5;241m=\u001b[39m getitem(key)\n",
            "\u001b[1;31mIndexError\u001b[0m: index 0 is out of bounds for axis 0 with size 0"
          ]
        }
      ],
      "source": [
        "recommender(\"Heavy Metal Lover\")"
      ]
    },
    {
      "cell_type": "code",
      "execution_count": null,
      "metadata": {
        "id": "MLpR6rycibj3"
      },
      "outputs": [],
      "source": [
        "import pickle"
      ]
    },
    {
      "cell_type": "code",
      "execution_count": null,
      "metadata": {
        "id": "bGu87tKXifmd"
      },
      "outputs": [],
      "source": [
        "pickle.dump(similar, open('similarity', 'wb'))\n",
        "pickle.dump(df, open('df', 'wb'))"
      ]
    }
  ],
  "metadata": {
    "colab": {
      "provenance": []
    },
    "kernelspec": {
      "display_name": "Python 3",
      "name": "python3"
    },
    "language_info": {
      "codemirror_mode": {
        "name": "ipython",
        "version": 3
      },
      "file_extension": ".py",
      "mimetype": "text/x-python",
      "name": "python",
      "nbconvert_exporter": "python",
      "pygments_lexer": "ipython3",
      "version": "3.11.5"
    }
  },
  "nbformat": 4,
  "nbformat_minor": 0
}
